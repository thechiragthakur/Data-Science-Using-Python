{
 "cells": [
  {
   "cell_type": "code",
   "execution_count": 1,
   "metadata": {},
   "outputs": [
    {
     "data": {
      "text/html": [
       "<div>\n",
       "<style scoped>\n",
       "    .dataframe tbody tr th:only-of-type {\n",
       "        vertical-align: middle;\n",
       "    }\n",
       "\n",
       "    .dataframe tbody tr th {\n",
       "        vertical-align: top;\n",
       "    }\n",
       "\n",
       "    .dataframe thead th {\n",
       "        text-align: right;\n",
       "    }\n",
       "</style>\n",
       "<table border=\"1\" class=\"dataframe\">\n",
       "  <thead>\n",
       "    <tr style=\"text-align: right;\">\n",
       "      <th></th>\n",
       "      <th>fixed acidity</th>\n",
       "      <th>volatile acidity</th>\n",
       "      <th>citric acid</th>\n",
       "      <th>residual sugar</th>\n",
       "      <th>chlorides</th>\n",
       "      <th>free sulfur dioxide</th>\n",
       "      <th>total sulfur dioxide</th>\n",
       "      <th>density</th>\n",
       "      <th>pH</th>\n",
       "      <th>sulphates</th>\n",
       "      <th>alcohol</th>\n",
       "      <th>quality</th>\n",
       "    </tr>\n",
       "  </thead>\n",
       "  <tbody>\n",
       "    <tr>\n",
       "      <th>0</th>\n",
       "      <td>7.4</td>\n",
       "      <td>0.700</td>\n",
       "      <td>0.00</td>\n",
       "      <td>1.9</td>\n",
       "      <td>0.076</td>\n",
       "      <td>11.0</td>\n",
       "      <td>34.0</td>\n",
       "      <td>0.99780</td>\n",
       "      <td>3.51</td>\n",
       "      <td>0.56</td>\n",
       "      <td>9.4</td>\n",
       "      <td>5.42</td>\n",
       "    </tr>\n",
       "    <tr>\n",
       "      <th>1</th>\n",
       "      <td>7.8</td>\n",
       "      <td>0.880</td>\n",
       "      <td>0.00</td>\n",
       "      <td>2.6</td>\n",
       "      <td>0.098</td>\n",
       "      <td>25.0</td>\n",
       "      <td>67.0</td>\n",
       "      <td>0.99680</td>\n",
       "      <td>3.20</td>\n",
       "      <td>0.68</td>\n",
       "      <td>9.8</td>\n",
       "      <td>5.57</td>\n",
       "    </tr>\n",
       "    <tr>\n",
       "      <th>2</th>\n",
       "      <td>7.8</td>\n",
       "      <td>0.760</td>\n",
       "      <td>0.04</td>\n",
       "      <td>2.3</td>\n",
       "      <td>0.092</td>\n",
       "      <td>15.0</td>\n",
       "      <td>54.0</td>\n",
       "      <td>0.99700</td>\n",
       "      <td>3.26</td>\n",
       "      <td>0.65</td>\n",
       "      <td>9.8</td>\n",
       "      <td>5.17</td>\n",
       "    </tr>\n",
       "    <tr>\n",
       "      <th>3</th>\n",
       "      <td>11.2</td>\n",
       "      <td>0.280</td>\n",
       "      <td>0.56</td>\n",
       "      <td>1.9</td>\n",
       "      <td>0.075</td>\n",
       "      <td>17.0</td>\n",
       "      <td>60.0</td>\n",
       "      <td>0.99800</td>\n",
       "      <td>3.16</td>\n",
       "      <td>0.58</td>\n",
       "      <td>9.8</td>\n",
       "      <td>6.65</td>\n",
       "    </tr>\n",
       "    <tr>\n",
       "      <th>4</th>\n",
       "      <td>7.4</td>\n",
       "      <td>0.700</td>\n",
       "      <td>0.00</td>\n",
       "      <td>1.9</td>\n",
       "      <td>0.076</td>\n",
       "      <td>11.0</td>\n",
       "      <td>34.0</td>\n",
       "      <td>0.99780</td>\n",
       "      <td>3.51</td>\n",
       "      <td>0.56</td>\n",
       "      <td>9.4</td>\n",
       "      <td>5.68</td>\n",
       "    </tr>\n",
       "    <tr>\n",
       "      <th>...</th>\n",
       "      <td>...</td>\n",
       "      <td>...</td>\n",
       "      <td>...</td>\n",
       "      <td>...</td>\n",
       "      <td>...</td>\n",
       "      <td>...</td>\n",
       "      <td>...</td>\n",
       "      <td>...</td>\n",
       "      <td>...</td>\n",
       "      <td>...</td>\n",
       "      <td>...</td>\n",
       "      <td>...</td>\n",
       "    </tr>\n",
       "    <tr>\n",
       "      <th>1594</th>\n",
       "      <td>6.2</td>\n",
       "      <td>0.600</td>\n",
       "      <td>0.08</td>\n",
       "      <td>2.0</td>\n",
       "      <td>0.090</td>\n",
       "      <td>32.0</td>\n",
       "      <td>44.0</td>\n",
       "      <td>0.99490</td>\n",
       "      <td>3.45</td>\n",
       "      <td>0.58</td>\n",
       "      <td>10.5</td>\n",
       "      <td>5.98</td>\n",
       "    </tr>\n",
       "    <tr>\n",
       "      <th>1595</th>\n",
       "      <td>5.9</td>\n",
       "      <td>0.550</td>\n",
       "      <td>0.10</td>\n",
       "      <td>2.2</td>\n",
       "      <td>0.062</td>\n",
       "      <td>39.0</td>\n",
       "      <td>51.0</td>\n",
       "      <td>0.99512</td>\n",
       "      <td>3.52</td>\n",
       "      <td>0.76</td>\n",
       "      <td>11.2</td>\n",
       "      <td>6.32</td>\n",
       "    </tr>\n",
       "    <tr>\n",
       "      <th>1596</th>\n",
       "      <td>6.3</td>\n",
       "      <td>0.510</td>\n",
       "      <td>0.13</td>\n",
       "      <td>2.3</td>\n",
       "      <td>0.076</td>\n",
       "      <td>29.0</td>\n",
       "      <td>40.0</td>\n",
       "      <td>0.99574</td>\n",
       "      <td>3.42</td>\n",
       "      <td>0.75</td>\n",
       "      <td>11.0</td>\n",
       "      <td>6.62</td>\n",
       "    </tr>\n",
       "    <tr>\n",
       "      <th>1597</th>\n",
       "      <td>5.9</td>\n",
       "      <td>0.645</td>\n",
       "      <td>0.12</td>\n",
       "      <td>2.0</td>\n",
       "      <td>0.075</td>\n",
       "      <td>32.0</td>\n",
       "      <td>44.0</td>\n",
       "      <td>0.99547</td>\n",
       "      <td>3.57</td>\n",
       "      <td>0.71</td>\n",
       "      <td>10.2</td>\n",
       "      <td>5.41</td>\n",
       "    </tr>\n",
       "    <tr>\n",
       "      <th>1598</th>\n",
       "      <td>6.0</td>\n",
       "      <td>0.310</td>\n",
       "      <td>0.47</td>\n",
       "      <td>3.6</td>\n",
       "      <td>0.067</td>\n",
       "      <td>18.0</td>\n",
       "      <td>42.0</td>\n",
       "      <td>0.99549</td>\n",
       "      <td>3.39</td>\n",
       "      <td>0.66</td>\n",
       "      <td>11.0</td>\n",
       "      <td>6.38</td>\n",
       "    </tr>\n",
       "  </tbody>\n",
       "</table>\n",
       "<p>1599 rows × 12 columns</p>\n",
       "</div>"
      ],
      "text/plain": [
       "      fixed acidity  volatile acidity  citric acid  residual sugar  chlorides  \\\n",
       "0               7.4             0.700         0.00             1.9      0.076   \n",
       "1               7.8             0.880         0.00             2.6      0.098   \n",
       "2               7.8             0.760         0.04             2.3      0.092   \n",
       "3              11.2             0.280         0.56             1.9      0.075   \n",
       "4               7.4             0.700         0.00             1.9      0.076   \n",
       "...             ...               ...          ...             ...        ...   \n",
       "1594            6.2             0.600         0.08             2.0      0.090   \n",
       "1595            5.9             0.550         0.10             2.2      0.062   \n",
       "1596            6.3             0.510         0.13             2.3      0.076   \n",
       "1597            5.9             0.645         0.12             2.0      0.075   \n",
       "1598            6.0             0.310         0.47             3.6      0.067   \n",
       "\n",
       "      free sulfur dioxide  total sulfur dioxide  density    pH  sulphates  \\\n",
       "0                    11.0                  34.0  0.99780  3.51       0.56   \n",
       "1                    25.0                  67.0  0.99680  3.20       0.68   \n",
       "2                    15.0                  54.0  0.99700  3.26       0.65   \n",
       "3                    17.0                  60.0  0.99800  3.16       0.58   \n",
       "4                    11.0                  34.0  0.99780  3.51       0.56   \n",
       "...                   ...                   ...      ...   ...        ...   \n",
       "1594                 32.0                  44.0  0.99490  3.45       0.58   \n",
       "1595                 39.0                  51.0  0.99512  3.52       0.76   \n",
       "1596                 29.0                  40.0  0.99574  3.42       0.75   \n",
       "1597                 32.0                  44.0  0.99547  3.57       0.71   \n",
       "1598                 18.0                  42.0  0.99549  3.39       0.66   \n",
       "\n",
       "      alcohol  quality  \n",
       "0         9.4     5.42  \n",
       "1         9.8     5.57  \n",
       "2         9.8     5.17  \n",
       "3         9.8     6.65  \n",
       "4         9.4     5.68  \n",
       "...       ...      ...  \n",
       "1594     10.5     5.98  \n",
       "1595     11.2     6.32  \n",
       "1596     11.0     6.62  \n",
       "1597     10.2     5.41  \n",
       "1598     11.0     6.38  \n",
       "\n",
       "[1599 rows x 12 columns]"
      ]
     },
     "execution_count": 1,
     "metadata": {},
     "output_type": "execute_result"
    }
   ],
   "source": [
    "import numpy as np\n",
    "import pandas as pd\n",
    "import matplotlib.pyplot as plt\n",
    "wqr= pd.read_csv(\"C:\\\\Users\\\\dhima\\\\anaconda3\\\\5th Week\\\\winequality-red.csv\")\n",
    "wqr1=wqr.copy()\n",
    "wqr1"
   ]
  },
  {
   "cell_type": "code",
   "execution_count": 2,
   "metadata": {},
   "outputs": [
    {
     "name": "stdout",
     "output_type": "stream",
     "text": [
      "[[3.51]\n",
      " [3.2 ]\n",
      " [3.26]\n",
      " ...\n",
      " [3.42]\n",
      " [3.57]\n",
      " [3.39]]\n",
      "\n",
      "\n",
      "\n",
      "[[5.42]\n",
      " [5.57]\n",
      " [5.17]\n",
      " ...\n",
      " [6.62]\n",
      " [5.41]\n",
      " [6.38]]\n"
     ]
    }
   ],
   "source": [
    "X1=wqr1[\"pH\"].values.reshape(-1,1)\n",
    "print(X1)\n",
    "print('\\n\\n')\n",
    "Y1=wqr1[\"quality\"].values.reshape(-1,1)\n",
    "print(Y1)\n",
    "from sklearn.model_selection import train_test_split\n",
    "X1_train,X1_test,Y1_train,Y1_test=train_test_split(X1,Y1,\n",
    "                                train_size=0.70,random_state=42)"
   ]
  },
  {
   "cell_type": "code",
   "execution_count": 3,
   "metadata": {},
   "outputs": [
    {
     "data": {
      "image/png": "[encoded data removed]",
      "text/plain": [
       "<Figure size 432x288 with 1 Axes>"
      ]
     },
     "metadata": {
      "needs_background": "light"
     },
     "output_type": "display_data"
    }
   ],
   "source": [
    "plt.scatter(wqr1[\"pH\"], wqr1[\"quality\"], label='plot')\n",
    "plt.title('pH vs Quality')\n",
    "plt.xlabel('pH')\n",
    "plt.ylabel('Quality')\n",
    "plt.legend(loc='upper left')\n",
    "plt.show()"
   ]
  },
  {
   "cell_type": "code",
   "execution_count": 4,
   "metadata": {},
   "outputs": [],
   "source": [
    "from sklearn import linear_model\n",
    "reg = linear_model.LinearRegression()\n",
    "reg.fit(X1_train,Y1_train)\n",
    "predicted_data = reg.predict(X1)\n",
    "predicted_train = reg.predict(X1_train)\n",
    "predicted_test = reg.predict(X1_test)"
   ]
  },
  {
   "cell_type": "code",
   "execution_count": 5,
   "metadata": {},
   "outputs": [
    {
     "data": {
      "image/png": "[encoded data removed]",
      "text/plain": [
       "<Figure size 432x288 with 1 Axes>"
      ]
     },
     "metadata": {
      "needs_background": "light"
     },
     "output_type": "display_data"
    }
   ],
   "source": [
    "plt.scatter(wqr1[\"pH\"],wqr1[\"quality\"], label='plot')\n",
    "plt.plot(wqr1[\"pH\"],predicted_data,color='red')\n",
    "plt.title('pH vs Quality')\n",
    "plt.xlabel('pH')\n",
    "plt.ylabel('Quality')\n",
    "plt.show()"
   ]
  },
  {
   "cell_type": "code",
   "execution_count": 6,
   "metadata": {},
   "outputs": [
    {
     "data": {
      "image/png": "[encoded data removed]",
      "text/plain": [
       "<Figure size 432x288 with 1 Axes>"
      ]
     },
     "metadata": {
      "needs_background": "light"
     },
     "output_type": "display_data"
    }
   ],
   "source": [
    "plt.scatter(X1_train, Y1_train, label='plot')\n",
    "plt.plot(X1_train,predicted_train,color='red')\n",
    "plt.title('pH vs Quality')\n",
    "plt.xlabel('pH')\n",
    "plt.ylabel('Quality')\n",
    "plt.legend(loc='upper left')\n",
    "plt.show()"
   ]
  },
  {
   "cell_type": "code",
   "execution_count": 7,
   "metadata": {},
   "outputs": [
    {
     "data": {
      "image/png": "[encoded data removed]",
      "text/plain": [
       "<Figure size 432x288 with 1 Axes>"
      ]
     },
     "metadata": {
      "needs_background": "light"
     },
     "output_type": "display_data"
    }
   ],
   "source": [
    "plt.scatter(X1_test, Y1_test, label='plot')\n",
    "plt.plot(X1_test,predicted_test,color='red')\n",
    "plt.title('pH vs Quality')\n",
    "plt.xlabel('pH')\n",
    "plt.ylabel('Quality')\n",
    "plt.legend(loc='upper left')\n",
    "plt.show()"
   ]
  },
  {
   "cell_type": "code",
   "execution_count": 8,
   "metadata": {},
   "outputs": [
    {
     "name": "stdout",
     "output_type": "stream",
     "text": [
      "Root Mean Square Error of train:\n",
      "0.8624300774972703\n",
      "Root Mean Square Error of test:\n",
      "0.8434022740015744\n"
     ]
    }
   ],
   "source": [
    "from sklearn.metrics import mean_squared_error\n",
    "import math\n",
    "MSE_1 = mean_squared_error(Y1_train, predicted_train)\n",
    "MSE_2 = mean_squared_error(Y1_test, predicted_test)\n",
    "RMSE_1 = math.sqrt(MSE_1)\n",
    "RMSE_2 = math.sqrt(MSE_2)\n",
    "print(\"Root Mean Square Error of train:\")\n",
    "print(RMSE_1)\n",
    "print(\"Root Mean Square Error of test:\")\n",
    "print(RMSE_2)"
   ]
  },
  {
   "cell_type": "code",
   "execution_count": 9,
   "metadata": {},
   "outputs": [
    {
     "name": "stdout",
     "output_type": "stream",
     "text": [
      "0.8560545361945039\n",
      "0.8550342500100593\n",
      "0.8546933698359007\n",
      "0.85463870172786\n"
     ]
    },
    {
     "data": {
      "image/png": "[encoded data removed]",
      "text/plain": [
       "<Figure size 432x288 with 1 Axes>"
      ]
     },
     "metadata": {
      "needs_background": "light"
     },
     "output_type": "display_data"
    }
   ],
   "source": [
    "from sklearn.preprocessing import PolynomialFeatures\n",
    "from sklearn.linear_model import LinearRegression\n",
    "degree=[2,3,4,5]\n",
    "\n",
    "for i,k in enumerate(degree):               #by applying loop the graph is overlapping\n",
    "    poly_i = PolynomialFeatures(degree=k)\n",
    "    X1_poly_i = poly_i.fit_transform(X1)\n",
    "\n",
    "    poly_i.fit(X1_poly_i, Y1)\n",
    "    lin2 = LinearRegression()\n",
    "    lin2.fit(X1_poly_i, Y1)\n",
    "    y_pred_i=lin2.predict(poly_i.fit_transform(X1))\n",
    "    plt.scatter(X1, Y1, color = 'blue')\n",
    "\n",
    "    p1=plt.plot(X1, lin2.predict(poly_i.fit_transform(X1)), color = 'red')\n",
    "    plt.title('Polynomial Regression')\n",
    "    plt.xlabel('pH')\n",
    "    plt.ylabel('Quality')\n",
    "    R1=np.sqrt(mean_squared_error(Y1,y_pred_i))\n",
    "    print(R1)"
   ]
  },
  {
   "cell_type": "code",
   "execution_count": 10,
   "metadata": {},
   "outputs": [
    {
     "name": "stdout",
     "output_type": "stream",
     "text": [
      "0.8560545361945039\n"
     ]
    },
    {
     "data": {
      "image/png": "[encoded data removed]",
      "text/plain": [
       "<Figure size 432x288 with 1 Axes>"
      ]
     },
     "metadata": {
      "needs_background": "light"
     },
     "output_type": "display_data"
    }
   ],
   "source": [
    "poly_1 = PolynomialFeatures(degree = 2)\n",
    "X1_poly_1 = poly_1.fit_transform(X1)\n",
    "  \n",
    "poly_1.fit(X1_poly_1, Y1)\n",
    "lin2 = LinearRegression()\n",
    "lin2.fit(X1_poly_1, Y1)\n",
    "y_pred_1=lin2.predict(poly_1.fit_transform(X1))\n",
    "plt.scatter(X1, Y1, color = 'blue')\n",
    "  \n",
    "plt.plot(X1, lin2.predict(poly_1.fit_transform(X1)), color = 'red')\n",
    "plt.title('Polynomial Regression')\n",
    "plt.xlabel('pH')\n",
    "plt.ylabel('Quality')\n",
    "R1=np.sqrt(mean_squared_error(Y1,y_pred_1))\n",
    "print(R1)"
   ]
  },
  {
   "cell_type": "code",
   "execution_count": 11,
   "metadata": {},
   "outputs": [
    {
     "name": "stdout",
     "output_type": "stream",
     "text": [
      "0.8550342500100593\n"
     ]
    },
    {
     "data": {
      "image/png": "[encoded data removed]",
      "text/plain": [
       "<Figure size 432x288 with 1 Axes>"
      ]
     },
     "metadata": {
      "needs_background": "light"
     },
     "output_type": "display_data"
    }
   ],
   "source": [
    "poly_2 = PolynomialFeatures(degree = 3)\n",
    "X1_poly_2 = poly_2.fit_transform(X1)\n",
    "  \n",
    "poly_2.fit(X1_poly_2, Y1)\n",
    "lin2 = LinearRegression()\n",
    "lin2.fit(X1_poly_2, Y1)\n",
    "y_pred_2=lin2.predict(poly_2.fit_transform(X1))\n",
    "plt.scatter(X1, Y1, color = 'blue')\n",
    "  \n",
    "plt.plot(X1, lin2.predict(poly_2.fit_transform(X1)), color = 'red')\n",
    "plt.title('Polynomial Regression')\n",
    "plt.xlabel('pH')\n",
    "plt.ylabel('Quality')\n",
    "R1=np.sqrt(mean_squared_error(Y1,y_pred_2))\n",
    "print(R1)"
   ]
  },
  {
   "cell_type": "code",
   "execution_count": 12,
   "metadata": {},
   "outputs": [
    {
     "name": "stdout",
     "output_type": "stream",
     "text": [
      "      fixed acidity  volatile acidity  citric acid  residual sugar  chlorides  \\\n",
      "925             8.6             0.220         0.36             1.9      0.064   \n",
      "363            12.5             0.460         0.63             2.0      0.071   \n",
      "906             7.2             0.540         0.27             2.6      0.084   \n",
      "426             6.4             0.670         0.08             2.1      0.045   \n",
      "1251            7.5             0.580         0.14             2.2      0.077   \n",
      "...             ...               ...          ...             ...        ...   \n",
      "1130            9.1             0.600         0.00             1.9      0.058   \n",
      "1294            8.2             0.635         0.10             2.1      0.073   \n",
      "860             7.2             0.620         0.06             2.7      0.077   \n",
      "1459            7.9             0.200         0.35             1.7      0.054   \n",
      "1126            5.8             0.290         0.26             1.7      0.063   \n",
      "\n",
      "      free sulfur dioxide  total sulfur dioxide  density    pH  sulphates  \\\n",
      "925                  53.0                  77.0  0.99604  3.47       0.87   \n",
      "363                   6.0                  15.0  0.99880  2.99       0.87   \n",
      "906                  12.0                  78.0  0.99640  3.39       0.71   \n",
      "426                  19.0                  48.0  0.99490  3.49       0.49   \n",
      "1251                 27.0                  60.0  0.99630  3.28       0.59   \n",
      "...                   ...                   ...      ...   ...        ...   \n",
      "1130                  5.0                  10.0  0.99770  3.18       0.63   \n",
      "1294                 25.0                  60.0  0.99638  3.29       0.75   \n",
      "860                  15.0                  85.0  0.99746  3.51       0.54   \n",
      "1459                  7.0                  15.0  0.99458  3.32       0.80   \n",
      "1126                  3.0                  11.0  0.99150  3.39       0.54   \n",
      "\n",
      "      alcohol  \n",
      "925      11.0  \n",
      "363      10.2  \n",
      "906      11.0  \n",
      "426      11.4  \n",
      "1251      9.8  \n",
      "...       ...  \n",
      "1130     10.4  \n",
      "1294     10.9  \n",
      "860       9.5  \n",
      "1459     11.9  \n",
      "1126     13.5  \n",
      "\n",
      "[1119 rows x 11 columns]\n",
      "[[7.88]\n",
      " [5.34]\n",
      " [5.69]\n",
      " ...\n",
      " [5.78]\n",
      " [7.35]\n",
      " [6.78]]\n"
     ]
    }
   ],
   "source": [
    "X2=wqr1.iloc[0:,0:11]\n",
    "Y2=wqr1[\"quality\"].values.reshape(-1,1)\n",
    "from sklearn.model_selection import train_test_split\n",
    "X2_train,X2_test,Y2_train,Y2_test=train_test_split(X2,Y2,\n",
    "                                train_size=0.70,random_state=42)\n",
    "print(X2_train)\n",
    "print(Y2_train)"
   ]
  },
  {
   "cell_type": "code",
   "execution_count": 13,
   "metadata": {},
   "outputs": [],
   "source": [
    "from sklearn import linear_model\n",
    "reg = linear_model.LinearRegression()\n",
    "reg.fit(X2_train,Y2_train)\n",
    "predicted2_data = reg.predict(X2)\n",
    "predicted2_train = reg.predict(X2_train)\n",
    "predicted2_test = reg.predict(X2_test)"
   ]
  },
  {
   "cell_type": "code",
   "execution_count": 14,
   "metadata": {},
   "outputs": [
    {
     "name": "stdout",
     "output_type": "stream",
     "text": [
      "Root Mean Square Error of train:\n",
      "0.8624300774972703\n",
      "Root Mean Square Error of test:\n",
      "0.8434022740015744\n"
     ]
    }
   ],
   "source": [
    "from sklearn.metrics import mean_squared_error\n",
    "import math\n",
    "MSE_3 = mean_squared_error(Y2_train, predicted_train)\n",
    "MSE_4 = mean_squared_error(Y2_test, predicted_test)\n",
    "RMSE_3 = math.sqrt(MSE_1)\n",
    "RMSE_4 = math.sqrt(MSE_2)\n",
    "print(\"Root Mean Square Error of train:\")\n",
    "print(RMSE_3)\n",
    "print(\"Root Mean Square Error of test:\")\n",
    "print(RMSE_4)"
   ]
  },
  {
   "cell_type": "code",
   "execution_count": 15,
   "metadata": {},
   "outputs": [
    {
     "name": "stdout",
     "output_type": "stream",
     "text": [
      "0.7132621927997982\n",
      "0.6725489265884125\n",
      "0.5592677255163118\n"
     ]
    }
   ],
   "source": [
    "from sklearn.preprocessing import PolynomialFeatures\n",
    "from sklearn.linear_model import LinearRegression\n",
    "\n",
    "degree=[1,2,3]\n",
    "\n",
    "for i,k in enumerate(degree): \n",
    "    \n",
    "    poly_i = PolynomialFeatures(degree = k)\n",
    "    X2_poly_i = poly_i.fit_transform(X2)\n",
    "\n",
    "    poly_i.fit(X2_poly_i, Y2)\n",
    "    lin2 = LinearRegression()\n",
    "    lin2.fit(X2_poly_i, Y2)\n",
    "    y_pred_i=lin2.predict(poly_i.fit_transform(X2))\n",
    "\n",
    "    R1=np.sqrt(mean_squared_error(Y2,y_pred_i))\n",
    "    print(R1)"
   ]
  },
  {
   "cell_type": "code",
   "execution_count": 16,
   "metadata": {},
   "outputs": [
    {
     "name": "stdout",
     "output_type": "stream",
     "text": [
      "Pearsons correlation1:  -0.3699960846637292\n",
      "Pearsons correlation2: 0.20858611118689963\n",
      "Pearsons correlation3:  0.005607037322216234\n",
      "Pearsons correlation4:  -0.12326479526612572\n",
      "Pearsons correlation5: -0.04459520747497195\n",
      "Pearsons correlation6:  -0.1758756051517842\n",
      "Pearsons correlation7:  -0.1681542598782257\n",
      "Pearsons correlation8:  -0.046572461559001896\n",
      "Pearsons correlation9: 0.2270225766484153\n",
      "Pearsons correlation10:  0.4346884851091922\n",
      "Pearsons correlation11:  0.1048559183708356\n"
     ]
    }
   ],
   "source": [
    "from scipy.stats import pearsonr\n",
    "list1 = wqr1['quality'] \n",
    "list2 = wqr1['volatile acidity']\n",
    "list3= wqr1['citric acid']\n",
    "list4= wqr1['residual sugar']\n",
    "list5= wqr1['chlorides']\n",
    "list6= wqr1['free sulfur dioxide']\n",
    "list7= wqr1['total sulfur dioxide']\n",
    "list8= wqr1['density']\n",
    "list9= wqr1['pH']\n",
    "list10= wqr1['sulphates']\n",
    "list11= wqr1['alcohol']\n",
    "list12= wqr1['fixed acidity']\n",
    "corr1= pearsonr(list1, list2)[0] \n",
    "corr2= pearsonr(list1, list3)[0] \n",
    "corr3= pearsonr(list1, list4)[0] \n",
    "corr4= pearsonr(list1, list5)[0] \n",
    "corr5= pearsonr(list1, list6)[0] \n",
    "corr6= pearsonr(list1, list7)[0] \n",
    "corr7= pearsonr(list1, list8)[0] \n",
    "corr8= pearsonr(list1, list9)[0] \n",
    "corr9= pearsonr(list1, list10)[0] \n",
    "corr10= pearsonr(list1, list11)[0] \n",
    "corr11= pearsonr(list1, list12)[0] \n",
    "print('Pearsons correlation1: ' , corr1)\n",
    "print('Pearsons correlation2:' , corr2)\n",
    "print('Pearsons correlation3: ' , corr3)\n",
    "print('Pearsons correlation4: ' , corr4)\n",
    "print('Pearsons correlation5:' ,corr5)\n",
    "print('Pearsons correlation6: ' , corr6)\n",
    "print('Pearsons correlation7: ' , corr7)\n",
    "print('Pearsons correlation8: ' , corr8)\n",
    "print('Pearsons correlation9:' , corr9)\n",
    "print('Pearsons correlation10: ' , corr10)\n",
    "print('Pearsons correlation11: ' , corr11)"
   ]
  },
  {
   "cell_type": "code",
   "execution_count": 17,
   "metadata": {},
   "outputs": [],
   "source": [
    "X3=wqr1[[\"volatile acidity\",\"alcohol\"]]\n",
    "Y3=wqr1[\"quality\"].values.reshape(-1,1)\n",
    "from sklearn.model_selection import train_test_split\n",
    "X3_train,X3_test,Y3_train,Y3_test=train_test_split(X3,Y3,\n",
    "                                train_size=0.70,random_state=42)\n"
   ]
  },
  {
   "cell_type": "code",
   "execution_count": 18,
   "metadata": {},
   "outputs": [],
   "source": [
    "from sklearn import linear_model\n",
    "reg = linear_model.LinearRegression()\n",
    "reg.fit(X3,Y3)\n",
    "predicted_data = reg.predict(X3)\n",
    "predicted_train = reg.predict(X3_train)\n",
    "predicted_test = reg.predict(X3_test)"
   ]
  },
  {
   "cell_type": "code",
   "execution_count": 19,
   "metadata": {},
   "outputs": [
    {
     "name": "stdout",
     "output_type": "stream",
     "text": [
      "Root Mean Square Error of train:\n",
      "0.733908513149113\n",
      "Root Mean Square Error of test:\n",
      "0.7252783083992618\n"
     ]
    }
   ],
   "source": [
    "from sklearn.metrics import mean_squared_error\n",
    "import math\n",
    "MSE_5 = mean_squared_error(Y3_train, predicted_train)\n",
    "MSE_6 = mean_squared_error(Y3_test, predicted_test)\n",
    "RMSE_5 = math.sqrt(MSE_5)\n",
    "RMSE_6 = math.sqrt(MSE_6)\n",
    "print(\"Root Mean Square Error of train:\")\n",
    "print(RMSE_5)\n",
    "print(\"Root Mean Square Error of test:\")\n",
    "print(RMSE_6)"
   ]
  },
  {
   "cell_type": "code",
   "execution_count": 20,
   "metadata": {},
   "outputs": [
    {
     "name": "stdout",
     "output_type": "stream",
     "text": [
      "Root Mean Square Error of train:\n",
      "0.7292967690739075\n"
     ]
    }
   ],
   "source": [
    "from sklearn.preprocessing import PolynomialFeatures\n",
    "from sklearn.linear_model import LinearRegression\n",
    "\n",
    "poly = PolynomialFeatures(degree = 2)\n",
    "X_poly = poly.fit_transform(X3)\n",
    "  \n",
    "poly.fit(X_poly, Y3)\n",
    "lin2 = LinearRegression()\n",
    "lin2.fit(X_poly, Y3)\n",
    "y_predict=lin2.predict(poly.fit_transform(X3))\n",
    "\n",
    "MSE_7 = mean_squared_error(Y3, y_predict)\n",
    "RMSE_7 = math.sqrt(MSE_7)\n",
    "print(\"Root Mean Square Error of train:\")\n",
    "print(RMSE_7)"
   ]
  },
  {
   "cell_type": "code",
   "execution_count": 21,
   "metadata": {},
   "outputs": [
    {
     "name": "stdout",
     "output_type": "stream",
     "text": [
      "Root Mean Square Error of train:\n",
      "0.7244127387740402\n"
     ]
    }
   ],
   "source": [
    "from sklearn.preprocessing import PolynomialFeatures\n",
    "from sklearn.linear_model import LinearRegression\n",
    "\n",
    "poly = PolynomialFeatures(degree = 3)\n",
    "X_poly = poly.fit_transform(X3)\n",
    "  \n",
    "poly.fit(X_poly, Y3)\n",
    "lin2 = LinearRegression()\n",
    "lin2.fit(X_poly, Y3)\n",
    "y_predict=lin2.predict(poly.fit_transform(X3))\n",
    "\n",
    "MSE_8 = mean_squared_error(Y3, y_predict)\n",
    "RMSE_8 = math.sqrt(MSE_8)\n",
    "print(\"Root Mean Square Error of train:\")\n",
    "print(RMSE_8)"
   ]
  },
  {
   "cell_type": "code",
   "execution_count": 22,
   "metadata": {},
   "outputs": [
    {
     "name": "stdout",
     "output_type": "stream",
     "text": [
      "Root Mean Square Error of train:\n",
      "0.7217647266112797\n"
     ]
    }
   ],
   "source": [
    "from sklearn.preprocessing import PolynomialFeatures\n",
    "from sklearn.linear_model import LinearRegression\n",
    "\n",
    "poly = PolynomialFeatures(degree = 4)\n",
    "X_poly = poly.fit_transform(X3)\n",
    "  \n",
    "poly.fit(X_poly, Y3)\n",
    "lin2 = LinearRegression()\n",
    "lin2.fit(X_poly, Y3)\n",
    "y_predict=lin2.predict(poly.fit_transform(X3))\n",
    "\n",
    "MSE_9 = mean_squared_error(Y3, y_predict)\n",
    "RMSE_9 = math.sqrt(MSE_9)\n",
    "print(\"Root Mean Square Error of train:\")\n",
    "print(RMSE_9)"
   ]
  },
  {
   "cell_type": "code",
   "execution_count": 23,
   "metadata": {},
   "outputs": [
    {
     "name": "stdout",
     "output_type": "stream",
     "text": [
      "Root Mean Square Error of train:\n",
      "0.7202651050598432\n"
     ]
    }
   ],
   "source": [
    "from sklearn.preprocessing import PolynomialFeatures\n",
    "from sklearn.linear_model import LinearRegression\n",
    "\n",
    "poly = PolynomialFeatures(degree = 5)\n",
    "X_poly = poly.fit_transform(X3)\n",
    "  \n",
    "poly.fit(X_poly, Y3)\n",
    "lin2 = LinearRegression()\n",
    "lin2.fit(X_poly, Y3)\n",
    "y_predict=lin2.predict(poly.fit_transform(X3))\n",
    "\n",
    "MSE_10 = mean_squared_error(Y3, y_predict)\n",
    "RMSE_10 = math.sqrt(MSE_10)\n",
    "print(\"Root Mean Square Error of train:\")\n",
    "print(RMSE_10)"
   ]
  },
  {
   "cell_type": "code",
   "execution_count": null,
   "metadata": {},
   "outputs": [],
   "source": []
  }
 ],
 "metadata": {
  "kernelspec": {
   "display_name": "Python 3",
   "language": "python",
   "name": "python3"
  },
  "language_info": {
   "codemirror_mode": {
    "name": "ipython",
    "version": 3
   },
   "file_extension": ".py",
   "mimetype": "text/x-python",
   "name": "python",
   "nbconvert_exporter": "python",
   "pygments_lexer": "ipython3",
   "version": "3.8.5"
  }
 },
 "nbformat": 4,
 "nbformat_minor": 4
}
