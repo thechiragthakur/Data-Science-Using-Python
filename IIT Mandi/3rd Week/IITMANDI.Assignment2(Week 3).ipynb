{
 "cells": [
  {
   "cell_type": "code",
   "execution_count": 2,
   "metadata": {},
   "outputs": [],
   "source": [
    "import numpy as np\n",
    "import pandas as pd\n",
    "from sklearn.model_selection import train_test_split\n",
    "from sklearn.naive_bayes import GaussianNB\n",
    "from sklearn.metrics import accuracy_score,confusion_matrix\n",
    "import matplotlib.pyplot as plt"
   ]
  },
  {
   "cell_type": "code",
   "execution_count": 10,
   "metadata": {},
   "outputs": [
    {
     "name": "stdout",
     "output_type": "stream",
     "text": [
      "     pregs  plas  pres  skin  test   BMI   pedi  Age  class\n",
      "0        6   148    72    35     0  33.6  0.627   50      1\n",
      "1        1    85    66    29     0  26.6  0.351   31      0\n",
      "2        8   183    64     0     0  23.3  0.672   32      1\n",
      "3        1    89    66    23    94  28.1  0.167   21      0\n",
      "4        0   137    40    35   168  43.1  2.288   33      1\n",
      "..     ...   ...   ...   ...   ...   ...    ...  ...    ...\n",
      "763     10   101    76    48   180  32.9  0.171   63      0\n",
      "764      2   122    70    27     0  36.8  0.340   27      0\n",
      "765      5   121    72    23   112  26.2  0.245   30      0\n",
      "766      1   126    60     0     0  30.1  0.349   47      1\n",
      "767      1    93    70    31     0  30.4  0.315   23      0\n",
      "\n",
      "[768 rows x 9 columns]\n"
     ]
    }
   ],
   "source": [
    "import pandas as pd\n",
    "#imported the dataset given to us\n",
    "pid=pd.read_csv(\"C:\\\\Users\\\\Micontroller Lab N16\\\\IIT MANDI\\\\3rd Week\\\\pima-indians-diabetes.csv\",sep=',')\n",
    "\n",
    "#made a copy of the original dataset\n",
    "pid1=pid.copy()\n",
    "print(pid1)"
   ]
  },
  {
   "cell_type": "code",
   "execution_count": 7,
   "metadata": {},
   "outputs": [
    {
     "name": "stdout",
     "output_type": "stream",
     "text": [
      "['pregs', 'plas', 'pres', 'skin', 'test', 'BMI', 'pedi', 'Age']\n",
      "\n",
      "\n",
      "\n",
      "     pregs  plas  pres  skin  test   BMI   pedi  Age\n",
      "0        6   148    72    35     0  33.6  0.627   50\n",
      "1        1    85    66    29     0  26.6  0.351   31\n",
      "2        8   183    64     0     0  23.3  0.672   32\n",
      "3        1    89    66    23    94  28.1  0.167   21\n",
      "4        0   137    40    35   168  43.1  2.288   33\n",
      "..     ...   ...   ...   ...   ...   ...    ...  ...\n",
      "763     10   101    76    48   180  32.9  0.171   63\n",
      "764      2   122    70    27     0  36.8  0.340   27\n",
      "765      5   121    72    23   112  26.2  0.245   30\n",
      "766      1   126    60     0     0  30.1  0.349   47\n",
      "767      1    93    70    31     0  30.4  0.315   23\n",
      "\n",
      "[768 rows x 8 columns]\n"
     ]
    }
   ],
   "source": [
    "pid.columns\n",
    "#created a list of all the columns present in the dataset\n",
    "pid_col=list(pid.columns)\n",
    "pid2=pid.copy()                 #made a copy of original dataset without attribute class\n",
    "pid_col\n",
    "pid_col1=pid_col.copy()      #we do not want to bring changes in the class column so we removed it from the copied dataset\n",
    "pid_col1.remove('class')\n",
    "pid2.drop([\"class\"], axis = 1, inplace = True)\n",
    "print(pid_col1)\n",
    "print('\\n\\n')\n",
    "print(pid2)"
   ]
  },
  {
   "cell_type": "code",
   "execution_count": 8,
   "metadata": {},
   "outputs": [
    {
     "name": "stdout",
     "output_type": "stream",
     "text": [
      "     pregs  plas  pres  skin  test   BMI   pedi  Age\n",
      "0        6   148    72    35     0  33.6  0.627   50\n",
      "1        1    85    66    29     0  26.6  0.351   31\n",
      "2        8   183    64     0     0  23.3  0.672   32\n",
      "3        1    89    66    23    94  28.1  0.167   21\n",
      "4        0   137    40    35   168  43.1  2.288   33\n",
      "..     ...   ...   ...   ...   ...   ...    ...  ...\n",
      "763     10   101    76    48   180  32.9  0.171   63\n",
      "764      2   122    70    27     0  36.8  0.340   27\n",
      "765      5   121    72    23   112  26.2  0.245   30\n",
      "766      1   126    60     0     0  30.1  0.349   47\n",
      "767      1    93    70    31     0  30.4  0.315   23\n",
      "\n",
      "[768 rows x 8 columns]\n",
      "0      1\n",
      "1      0\n",
      "2      1\n",
      "3      0\n",
      "4      1\n",
      "      ..\n",
      "763    0\n",
      "764    0\n",
      "765    0\n",
      "766    1\n",
      "767    0\n",
      "Name: class, Length: 768, dtype: int64\n"
     ]
    }
   ],
   "source": [
    "X1 = pid2                  # X denotes the input functions and here class defines whether the person is ill or not\n",
    "print(X1)\n",
    "y1 = pid['class']                  #y denotes the output functions\n",
    "print(y1)"
   ]
  },
  {
   "cell_type": "code",
   "execution_count": 9,
   "metadata": {},
   "outputs": [
    {
     "name": "stdout",
     "output_type": "stream",
     "text": [
      "     pregs  plas  pres  skin  test   BMI   pedi  Age\n",
      "334      1    95    60    18    58  23.9  0.260   22\n",
      "139      5   105    72    29   325  36.9  0.159   28\n",
      "485      0   135    68    42   250  42.3  0.365   24\n",
      "547      4   131    68    21   166  33.1  0.160   28\n",
      "18       1   103    30    38    83  43.3  0.183   33\n",
      "..     ...   ...   ...   ...   ...   ...    ...  ...\n",
      "71       5   139    64    35   140  28.6  0.411   26\n",
      "106      1    96   122     0     0  22.4  0.207   27\n",
      "270     10   101    86    37     0  45.6  1.136   38\n",
      "435      0   141     0     0     0  42.4  0.205   29\n",
      "102      0   125    96     0     0  22.5  0.262   21\n",
      "\n",
      "[537 rows x 8 columns]\n",
      "334    0\n",
      "139    0\n",
      "485    1\n",
      "547    0\n",
      "18     0\n",
      "      ..\n",
      "71     0\n",
      "106    0\n",
      "270    1\n",
      "435    1\n",
      "102    0\n",
      "Name: class, Length: 537, dtype: int64\n",
      "     pregs  plas  pres  skin  test   BMI   pedi  Age\n",
      "668      6    98    58    33   190  34.0  0.430   43\n",
      "324      2   112    75    32     0  35.7  0.148   21\n",
      "624      2   108    64     0     0  30.8  0.158   21\n",
      "690      8   107    80     0     0  24.6  0.856   34\n",
      "473      7   136    90     0     0  29.9  0.210   50\n",
      "..     ...   ...   ...   ...   ...   ...    ...  ...\n",
      "619      0   119     0     0     0  32.4  0.141   24\n",
      "198      4   109    64    44    99  34.8  0.905   26\n",
      "538      0   127    80    37   210  36.3  0.804   23\n",
      "329      6   105    70    32    68  30.8  0.122   37\n",
      "302      5    77    82    41    42  35.8  0.156   35\n",
      "\n",
      "[231 rows x 8 columns]\n",
      "668    0\n",
      "324    0\n",
      "624    0\n",
      "690    0\n",
      "473    0\n",
      "      ..\n",
      "619    1\n",
      "198    1\n",
      "538    0\n",
      "329    0\n",
      "302    0\n",
      "Name: class, Length: 231, dtype: int64\n"
     ]
    }
   ],
   "source": [
    "from sklearn.model_selection import train_test_split       #As given we are assigning 70% of data for training and 30% for testing\n",
    "X1_train, X1_test, y1_train, y1_test = train_test_split(X1, y1, train_size = 0.7,random_state = 42)\n",
    "\n",
    "print(X1_train)\n",
    "print(y1_train)\n",
    "print(X1_test)\n",
    "print(y1_test)"
   ]
  },
  {
   "cell_type": "code",
   "execution_count": null,
   "metadata": {},
   "outputs": [],
   "source": [
    "import numpy as np\n",
    "import matplotlib.pyplot as plt\n",
    "from sklearn.neighbors import KNeighborsClassifier\n",
    "from sklearn.metrics import accuracy_score,confusion_matrix\n",
    "neighbors=[1,3,5,7,9,11,13,15,17,19,21]\n",
    "train_accuracy = np.empty(len(neighbors))\n",
    "test_accuracy = np.empty(len(neighbors))\n",
    "acc=[]\n",
    "  \n",
    "# Loop over K values\n",
    "for i, k in enumerate(neighbors):\n",
    "    knn = KNeighborsClassifier(n_neighbors=k)\n",
    "    knn.fit(X1_train, y1_train)\n",
    "    print('Predicted Outcomes for neighbours =',k,'are', knn.predict(X1_test))\n",
    "    print('\\n')\n",
    "    \n",
    "    print('Accuracy = ',knn.score(X1_test, y1_test))\n",
    "    if ((knn.score(X1_test, y1_test))>=0):\n",
    "        acc.append(knn.score(X1_test, y1_test))\n",
    "    print('\\n')\n",
    "   \n",
    "    matrix = confusion_matrix(y1_test,knn.predict(X1_test))\n",
    "    print('Confusion Matrix = ',matrix)\n",
    "    print('\\n\\n')\n",
    "    \n",
    "      \n",
    "    # Compute traning and test data accuracy\n",
    "    train_accuracy[i] = knn.score(X1_train, y1_train)\n",
    "    test_accuracy[i] = knn.score(X1_test, y1_test)\n",
    "\n",
    "print(acc)\n",
    "print('\\n')\n",
    "print('maximum accuracy is =', max(acc)*100)\n",
    "\n",
    "  \n",
    "# Generate plot\n",
    "plt.plot(neighbors, test_accuracy, label = 'Testing dataset Accuracy')\n",
    "plt.plot(neighbors, train_accuracy, label = 'Training dataset Accuracy')\n",
    "\n",
    "\n",
    "plt.legend()\n",
    "plt.xlabel('n_neighbors')\n",
    "plt.ylabel('Accuracy')\n",
    "plt.show()\n",
    "\n"
   ]
  },
  {
   "cell_type": "code",
   "execution_count": null,
   "metadata": {},
   "outputs": [],
   "source": [
    "X2 = pid2                  # X denotes the input functions and here class defines whether the person is ill or not\n",
    "print(X1)\n",
    "y2 = pid['class']                  #y denotes the output functions\n",
    "print(y1)"
   ]
  },
  {
   "cell_type": "code",
   "execution_count": null,
   "metadata": {},
   "outputs": [],
   "source": [
    "from sklearn.model_selection import train_test_split       #As given we are assigning 70% of data for training and 30% for testing\n",
    "X2_train, X2_test, y2_train, y2_test = train_test_split(X2, y2, train_size = 0.7,random_state = 42)\n",
    "\n",
    "print(X2_train)\n",
    "print(y2_train)\n",
    "print(X2_test)\n",
    "print(y2_test)"
   ]
  },
  {
   "cell_type": "code",
   "execution_count": null,
   "metadata": {},
   "outputs": [],
   "source": [
    "model=GaussianNB()\n",
    "model.fit(X2_train, y2_train)"
   ]
  },
  {
   "cell_type": "code",
   "execution_count": null,
   "metadata": {},
   "outputs": [],
   "source": [
    "y_pred=model.predict(X2_test)\n",
    "y_pred"
   ]
  },
  {
   "cell_type": "code",
   "execution_count": null,
   "metadata": {},
   "outputs": [],
   "source": [
    "accuracy=accuracy_score(y2_test, y_pred)*100\n",
    "print('accuracy = ',accuracy,'%')\n",
    "print('\\n')\n",
    "matrix=confusion_matrix(y2_test,y_pred)\n",
    "print('Confusion Matrix = ',matrix)"
   ]
  },
  {
   "cell_type": "markdown",
   "metadata": {},
   "source": [
    "Common way of speeding up a machine learning algorithm is by using Principal Component Analysis (PCA). \n",
    "If your learning algorithm is too slow because the input dimension is too high, then using PCA to speed it up can be a reasonable choice."
   ]
  },
  {
   "cell_type": "code",
   "execution_count": null,
   "metadata": {},
   "outputs": [],
   "source": [
    "X3 = pid2                  # X denotes the input functions and here class defines whether the person is ill or not\n",
    "print(X1)\n",
    "y3 = pid['class']                  #y denotes the output functions\n",
    "print(y1)"
   ]
  },
  {
   "cell_type": "code",
   "execution_count": null,
   "metadata": {},
   "outputs": [],
   "source": [
    "from sklearn.model_selection import train_test_split       #As given we are assigning 70% of data for training and 30% for testing\n",
    "X3_train, X3_test, y3_train, y3_test = train_test_split(X3, y3, train_size = 0.7,random_state = 42)\n",
    "\n",
    "print(X3_train)\n",
    "print('\\n\\n')\n",
    "print(y3_train)\n",
    "print('\\n\\n')\n",
    "print(X3_test)\n",
    "print('\\n\\n')\n",
    "print(y3_test)"
   ]
  },
  {
   "cell_type": "code",
   "execution_count": null,
   "metadata": {},
   "outputs": [],
   "source": [
    "from sklearn.preprocessing import StandardScaler\n",
    "scaler = StandardScaler()\n",
    "\n",
    "# Fit on training set only.\n",
    "scaler.fit(X3_train)\n",
    "print(X3_train)\n",
    "\n",
    "# Apply transform to both the training set and the test set.\n",
    "X3_train = scaler.transform(X3_train)   #expecting 2D array so only X values can be passed\n",
    "X3_test = scaler.transform(X3_test)\n"
   ]
  },
  {
   "cell_type": "code",
   "execution_count": null,
   "metadata": {},
   "outputs": [],
   "source": [
    "  \n",
    "\n",
    "#the code has .95 for the number of components parameter. It means that scikit-learn choose the minimum number of principal components such that 95% of the variance is retained"
   ]
  },
  {
   "cell_type": "code",
   "execution_count": null,
   "metadata": {},
   "outputs": [],
   "source": [
    "     #number of components PCA choose after fitting the model "
   ]
  },
  {
   "cell_type": "code",
   "execution_count": null,
   "metadata": {},
   "outputs": [],
   "source": []
  },
  {
   "cell_type": "code",
   "execution_count": null,
   "metadata": {},
   "outputs": [],
   "source": [
    "from sklearn.decomposition import PCA\n",
    "# Make an instance of the Model\n",
    "dimension = [0.25,0.40,0.60,0.70,0.80,0.90,0.95,0.99]\n",
    "accu=[]\n",
    "for z in enumerate(dimension):\n",
    "    \n",
    "    pca = PCA(z) \n",
    "\n",
    "    pca.fit(X3_train)\n",
    "    pca.n_components_ \n",
    "\n",
    "    X3_train = pca.transform(X3_train)\n",
    "    X3_test= pca.transform(X3_test)\n",
    "\n",
    "\n",
    "    from sklearn.neighbors import KNeighborsClassifier\n",
    "    from sklearn.metrics import accuracy_score,confusion_matrix\n",
    "    neighbors=[1,3,5,7,9,11,13,15,17,19,21]\n",
    "    train_accuracy = np.empty(len(neighbors))\n",
    "    test_accuracy = np.empty(len(neighbors))\n",
    "    acc=[]\n",
    "\n",
    "    # Loop over K values\n",
    "    for i, k in enumerate(neighbors):\n",
    "        knn = KNeighborsClassifier(n_neighbors=k)\n",
    "        knn.fit(X3_train, y3_train)\n",
    "        print('Predicted Outcomes for neighbours =',k,'are', knn.predict(X3_test))\n",
    "        print('\\n')\n",
    "\n",
    "        print('Accuracy = ',knn.score(X3_test, y3_test))\n",
    "        if ((knn.score(X3_test, y3_test))>=0):\n",
    "            acc.append(knn.score(X3_test, y3_test)) \n",
    "\n",
    "        print('\\n')\n",
    "\n",
    "        matrix = confusion_matrix(y3_test,knn.predict(X3_test))\n",
    "        print('Confusion Matrix = ',matrix)\n",
    "        print('\\n\\n')\n",
    "\n",
    "\n",
    "        # Compute traning and test data accuracy\n",
    "        train_accuracy[i] = knn.score(X3_train, y3_train)\n",
    "        test_accuracy[i] = knn.score(X3_test, y3_test)\n",
    "\n",
    "    print(acc)\n",
    "    print('\\n')\n",
    "    print('maximum accuracy is =', max(acc)*100)\n",
    "\n",
    "  \n",
    "# Generate plot\n",
    "#plt.plot(neighbors, test_accuracy, label = 'Testing dataset Accuracy')\n",
    "#plt.plot(neighbors, train_accuracy, label = 'Training dataset Accuracy')\n",
    "\n",
    "\n",
    "#plt.legend()\n",
    "#plt.xlabel('n_neighbors')\n",
    "#plt.ylabel('Accuracy')\n",
    "#plt.show()"
   ]
  },
  {
   "cell_type": "code",
   "execution_count": null,
   "metadata": {},
   "outputs": [],
   "source": []
  }
 ],
 "metadata": {
  "kernelspec": {
   "display_name": "Python 3",
   "language": "python",
   "name": "python3"
  },
  "language_info": {
   "codemirror_mode": {
    "name": "ipython",
    "version": 3
   },
   "file_extension": ".py",
   "mimetype": "text/x-python",
   "name": "python",
   "nbconvert_exporter": "python",
   "pygments_lexer": "ipython3",
   "version": "3.8.5"
  }
 },
 "nbformat": 4,
 "nbformat_minor": 4
}
